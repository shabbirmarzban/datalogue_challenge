{
 "cells": [
  {
   "cell_type": "code",
   "execution_count": 1,
   "metadata": {},
   "outputs": [],
   "source": [
    "import nltk\n",
    "import pandas as pd\n",
    "import numpy as np\n",
    "import re\n",
    "\n",
    "from sklearn.utils import shuffle\n",
    "from sklearn.model_selection import StratifiedKFold\n",
    "from sklearn.feature_extraction.text import TfidfVectorizer\n",
    "from sklearn.naive_bayes import MultinomialNB\n",
    "from sklearn.pipeline import make_pipeline\n",
    "from sklearn.ensemble import RandomForestClassifier\n",
    "from sklearn import svm\n",
    "from sklearn.metrics import confusion_matrix\n",
    "\n",
    "from imblearn.under_sampling import RandomUnderSampler\n",
    "from imblearn.over_sampling import RandomOverSampler\n",
    "\n",
    "from imblearn.pipeline import make_pipeline as make_pipeline_imb\n",
    "from imblearn.metrics import classification_report_imbalanced\n",
    "from nltk.tokenize import RegexpTokenizer\n",
    "import io\n",
    "\n",
    "%matplotlib inline\n",
    "import matplotlib.pyplot as plt\n"
   ]
  },
  {
   "cell_type": "markdown",
   "metadata": {},
   "source": [
    "# Loading Data"
   ]
  },
  {
   "cell_type": "code",
   "execution_count": 2,
   "metadata": {},
   "outputs": [
    {
     "data": {
      "text/html": [
       "<div>\n",
       "<style scoped>\n",
       "    .dataframe tbody tr th:only-of-type {\n",
       "        vertical-align: middle;\n",
       "    }\n",
       "\n",
       "    .dataframe tbody tr th {\n",
       "        vertical-align: top;\n",
       "    }\n",
       "\n",
       "    .dataframe thead th {\n",
       "        text-align: right;\n",
       "    }\n",
       "</style>\n",
       "<table border=\"1\" class=\"dataframe\">\n",
       "  <thead>\n",
       "    <tr style=\"text-align: right;\">\n",
       "      <th></th>\n",
       "      <th>response_text</th>\n",
       "      <th>class</th>\n",
       "    </tr>\n",
       "  </thead>\n",
       "  <tbody>\n",
       "    <tr>\n",
       "      <th>count</th>\n",
       "      <td>80</td>\n",
       "      <td>80</td>\n",
       "    </tr>\n",
       "    <tr>\n",
       "      <th>unique</th>\n",
       "      <td>80</td>\n",
       "      <td>2</td>\n",
       "    </tr>\n",
       "    <tr>\n",
       "      <th>top</th>\n",
       "      <td>Friends often come to me to talk about the iss...</td>\n",
       "      <td>not_flagged</td>\n",
       "    </tr>\n",
       "    <tr>\n",
       "      <th>freq</th>\n",
       "      <td>1</td>\n",
       "      <td>55</td>\n",
       "    </tr>\n",
       "  </tbody>\n",
       "</table>\n",
       "</div>"
      ],
      "text/plain": [
       "                                            response_text        class\n",
       "count                                                  80           80\n",
       "unique                                                 80            2\n",
       "top     Friends often come to me to talk about the iss...  not_flagged\n",
       "freq                                                    1           55"
      ]
     },
     "execution_count": 2,
     "metadata": {},
     "output_type": "execute_result"
    }
   ],
   "source": [
    "data = pd.read_csv(\"./Sheet_1.csv\",usecols=['response_id','class','response_text'],encoding='latin-1')\n",
    "data = shuffle(data, random_state=12345)\n",
    "labels = np.asarray(data['class']== 'flagged',dtype=int)\n",
    "data = data[['response_text','class']]\n",
    "data.describe()\n"
   ]
  },
  {
   "cell_type": "markdown",
   "metadata": {},
   "source": [
    "# Text preprocessing"
   ]
  },
  {
   "cell_type": "code",
   "execution_count": 3,
   "metadata": {},
   "outputs": [],
   "source": [
    "\n",
    "#wpt = nltk.WordPunctTokenizer()\n",
    "wpt = nltk.RegexpTokenizer(r'\\w+')\n",
    "stop_words = nltk.corpus.stopwords.words('english')\n",
    "\n",
    "def normalize_document(doc):\n",
    "    # lower case and remove special characters\\whitespaces\n",
    "    doc = re.sub(r'[^a-z,A-Z\\s]', '', doc, re.I)\n",
    "    doc = doc.lower()\n",
    "    doc = doc.strip()\n",
    "    # tokenize document\n",
    "    tokens = wpt.tokenize(doc)\n",
    "    # filter stopwords out of document\n",
    "    filtered_tokens = [token for token in tokens if token not in stop_words]\n",
    "    # re-create document from filtered tokens\n",
    "    doc = ' '.join(filtered_tokens)\n",
    "    return doc\n",
    "\n",
    "normalize_corpus = np.vectorize(normalize_document)\n",
    "normed_data = normalize_corpus(data['response_text'])"
   ]
  },
  {
   "cell_type": "markdown",
   "metadata": {},
   "source": [
    "# Loading and retrieve Vectors\n",
    "To generate word level features, pretrained word2vec model from Fasttext is used. This model is trained CommonCrawl corpus and has 2M word_vectors. "
   ]
  },
  {
   "cell_type": "code",
   "execution_count": 4,
   "metadata": {},
   "outputs": [],
   "source": [
    "def load_vectors(fname):\n",
    "    fin = io.open(fname, 'r', encoding='utf-8', newline='\\n', errors='ignore')\n",
    "    n, d = map(int, fin.readline().split())\n",
    "    data = {}\n",
    "    for line in fin:\n",
    "        tokens = line.rstrip().split(' ')\n",
    "        data[tokens[0]] = map(float, tokens[1:])\n",
    "    return data\n",
    "\n",
    "word_vectors = load_vectors('./word_2_vec_model/crawl-300d-2M.vec')"
   ]
  },
  {
   "cell_type": "code",
   "execution_count": 5,
   "metadata": {
    "scrolled": true
   },
   "outputs": [
    {
     "name": "stdout",
     "output_type": "stream",
     "text": [
      "Done with 0\n",
      "Done with 10\n",
      "Done with 20\n",
      "Word virgity not in vocab\n",
      "Done with 30\n",
      "Word theripist not in vocab\n",
      "Done with 40\n",
      "Done with 50\n",
      "Word cuttersuicidal not in vocab\n",
      "Done with 60\n",
      "Word irlsomeone not in vocab\n",
      "Word campingsurfing not in vocab\n",
      "Done with 70\n",
      "Word geds not in vocab\n"
     ]
    }
   ],
   "source": [
    "# retrieve vectors for all tokens.\n",
    "data_vectors = []\n",
    "for i, sentence in enumerate(normed_data):\n",
    "    words = sentence.split(' ')\n",
    "    vectors=[]\n",
    "    for w in words:\n",
    "        if w in word_vectors.keys():\n",
    "            vectors.append(word_vectors[w])\n",
    "        else:\n",
    "            print(\"Word {} not in vocab\".format(w))\n",
    "    data_vectors.append(vectors)\n",
    "    if i % 10 ==0:\n",
    "        print 'Done with %d' % i"
   ]
  },
  {
   "cell_type": "markdown",
   "metadata": {},
   "source": [
    "# Generating Features\n",
    "Here sentence(sample) level features are generated by taking mean of token-words in the sentence."
   ]
  },
  {
   "cell_type": "code",
   "execution_count": 6,
   "metadata": {},
   "outputs": [],
   "source": [
    "features = []\n",
    "for vv in data_vectors:\n",
    "    features.append(np.mean(vv,axis=0 ))\n",
    "features= np.asarray(features)"
   ]
  },
  {
   "cell_type": "code",
   "execution_count": 7,
   "metadata": {},
   "outputs": [],
   "source": [
    "## Util for Confusion Matrix - Taken from sklearn doc.\n",
    "import itertools\n",
    "def plot_confusion_matrix(cm, classes,\n",
    "                          normalize=False,\n",
    "                          title='Confusion matrix',\n",
    "                          cmap=plt.cm.Blues):\n",
    "    \"\"\"\n",
    "    This function prints and plots the confusion matrix.\n",
    "    Normalization can be applied by setting `normalize=True`.\n",
    "    \"\"\"\n",
    "    if normalize:\n",
    "        cm = cm.astype('float') / cm.sum(axis=1)[:, np.newaxis]\n",
    "        print(\"Normalized confusion matrix\")\n",
    "    else:\n",
    "        print('Confusion matrix, without normalization')\n",
    "\n",
    "    print(cm)\n",
    "\n",
    "    plt.imshow(cm, interpolation='nearest', cmap=cmap)\n",
    "    plt.title(title)\n",
    "    plt.colorbar()\n",
    "    tick_marks = np.arange(len(classes))\n",
    "    plt.xticks(tick_marks, classes, rotation=45)\n",
    "    plt.yticks(tick_marks, classes)\n",
    "\n",
    "    fmt = '.2f' if normalize else 'd'\n",
    "    thresh = cm.max() / 2.\n",
    "    for i, j in itertools.product(range(cm.shape[0]), range(cm.shape[1])):\n",
    "        plt.text(j, i, format(cm[i, j], fmt),\n",
    "                 horizontalalignment=\"center\",\n",
    "                 color=\"white\" if cm[i, j] > thresh else \"black\")\n",
    "\n",
    "    plt.tight_layout()\n",
    "    plt.ylabel('True label')\n",
    "    plt.xlabel('Predicted label')"
   ]
  },
  {
   "cell_type": "markdown",
   "metadata": {},
   "source": [
    "# Training\n",
    "For training, 5-fold crossvalidation is employed since we have very less data to play with. These folds are startified since there is significant imbalance between not_flagged(0) and flagged(1) classes. In each of the fold, grid search is performend on train/val set to find best hyper parameters(C). ATM only SVM is used as classifier.\n"
   ]
  },
  {
   "cell_type": "code",
   "execution_count": 8,
   "metadata": {
    "scrolled": false
   },
   "outputs": [
    {
     "name": "stdout",
     "output_type": "stream",
     "text": [
      "Fold 0 Report\n",
      "                   pre       rec       spe        f1       geo       iba       sup\n",
      "\n",
      "          0       1.00      0.73      1.00      0.84      0.85      0.71        11\n",
      "          1       0.62      1.00      0.73      0.77      0.85      0.75         5\n",
      "\n",
      "avg / total       0.88      0.81      0.91      0.82      0.85      0.72        16\n",
      "\n",
      "Best Classfier\n",
      "SVC(C=100, cache_size=200, class_weight=None, coef0=0.0,\n",
      "  decision_function_shape='ovr', degree=3, gamma='auto', kernel='rbf',\n",
      "  max_iter=-1, probability=False, random_state=None, shrinking=True,\n",
      "  tol=0.001, verbose=False)\n",
      ".....\n",
      "Fold 1 Report\n",
      "                   pre       rec       spe        f1       geo       iba       sup\n",
      "\n",
      "          0       0.92      1.00      0.80      0.96      0.89      0.82        11\n",
      "          1       1.00      0.80      1.00      0.89      0.89      0.78         5\n",
      "\n",
      "avg / total       0.94      0.94      0.86      0.94      0.89      0.81        16\n",
      "\n",
      "Best Classfier\n",
      "SVC(C=100, cache_size=200, class_weight=None, coef0=0.0,\n",
      "  decision_function_shape='ovr', degree=3, gamma='auto', kernel='rbf',\n",
      "  max_iter=-1, probability=False, random_state=None, shrinking=True,\n",
      "  tol=0.001, verbose=False)\n",
      ".....\n",
      "Fold 2 Report\n",
      "                   pre       rec       spe        f1       geo       iba       sup\n",
      "\n",
      "          0       0.77      0.91      0.40      0.83      0.60      0.38        11\n",
      "          1       0.67      0.40      0.91      0.50      0.60      0.35         5\n",
      "\n",
      "avg / total       0.74      0.75      0.56      0.73      0.60      0.37        16\n",
      "\n",
      "Best Classfier\n",
      "SVC(C=1000, cache_size=200, class_weight=None, coef0=0.0,\n",
      "  decision_function_shape='ovr', degree=3, gamma='auto', kernel='rbf',\n",
      "  max_iter=-1, probability=False, random_state=None, shrinking=True,\n",
      "  tol=0.001, verbose=False)\n",
      ".....\n",
      "Fold 3 Report\n",
      "                   pre       rec       spe        f1       geo       iba       sup\n",
      "\n",
      "          0       0.83      0.91      0.60      0.87      0.74      0.56        11\n",
      "          1       0.75      0.60      0.91      0.67      0.74      0.53         5\n",
      "\n",
      "avg / total       0.81      0.81      0.70      0.81      0.74      0.55        16\n",
      "\n",
      "Best Classfier\n",
      "SVC(C=100, cache_size=200, class_weight=None, coef0=0.0,\n",
      "  decision_function_shape='ovr', degree=3, gamma='auto', kernel='rbf',\n",
      "  max_iter=-1, probability=False, random_state=None, shrinking=True,\n",
      "  tol=0.001, verbose=False)\n",
      ".....\n",
      "Fold 4 Report\n",
      "                   pre       rec       spe        f1       geo       iba       sup\n",
      "\n",
      "          0       0.90      0.82      0.80      0.86      0.81      0.66        11\n",
      "          1       0.67      0.80      0.82      0.73      0.81      0.65         5\n",
      "\n",
      "avg / total       0.83      0.81      0.81      0.82      0.81      0.65        16\n",
      "\n",
      "Best Classfier\n",
      "SVC(C=100, cache_size=200, class_weight=None, coef0=0.0,\n",
      "  decision_function_shape='ovr', degree=3, gamma='auto', kernel='rbf',\n",
      "  max_iter=-1, probability=False, random_state=None, shrinking=True,\n",
      "  tol=0.001, verbose=False)\n",
      ".....\n",
      "Combining test prediction of all folds:\n",
      "                   pre       rec       spe        f1       geo       iba       sup\n",
      "\n",
      "          0       0.87      0.87      0.72      0.87      0.79      0.64        55\n",
      "          1       0.72      0.72      0.87      0.72      0.79      0.62        25\n",
      "\n",
      "avg / total       0.82      0.82      0.77      0.82      0.79      0.63        80\n",
      "\n",
      "Confusion matrix, without normalization\n",
      "[[48  7]\n",
      " [ 7 18]]\n"
     ]
    },
    {
     "data": {
      "image/png": "[encoded data removed]",
      "text/plain": [
       "<Figure size 432x288 with 2 Axes>"
      ]
     },
     "metadata": {},
     "output_type": "display_data"
    }
   ],
   "source": [
    "from sklearn.model_selection import GridSearchCV\n",
    "\n",
    "\n",
    "skf = StratifiedKFold(n_splits=5, random_state=1234, shuffle=False)\n",
    "y_test_all, y_pred_all = [],[]\n",
    "\n",
    "for i, [train_index, test_index] in enumerate(skf.split(features,labels)):\n",
    "    X_train, X_test = features[train_index], features[test_index]\n",
    "    y_train, y_test = labels[train_index], labels[test_index]\n",
    "\n",
    "    # Over sample to balance the classes.\n",
    "    ros = RandomOverSampler(random_state=42)\n",
    "    X_res, y_res = ros.fit_sample(X_train, y_train)\n",
    "    \n",
    "    # Grid search\n",
    "    h_parameters = {'C':[0.01, 0.1, 1, 10, 100, 1000]}\n",
    "    svc = svm.SVC(kernel='rbf')\n",
    "    clf = GridSearchCV(svc, h_parameters)\n",
    "    clf.fit(X_res, y_res)\n",
    "\n",
    "    #prediction on test-fold\n",
    "    y_pred = clf.best_estimator_.predict(X_test)\n",
    "    y_test_all.extend(y_test)\n",
    "    y_pred_all.extend(y_pred)\n",
    "    print 'Fold %d Report' % i\n",
    "    print(classification_report_imbalanced(y_test, y_pred))\n",
    "    print 'Best Classfier'\n",
    "    print clf.best_estimator_\n",
    "    print '.....'\n",
    "\n",
    "print 'Combining test prediction of all folds:'\n",
    "print(classification_report_imbalanced(y_test_all, y_pred_all))\n",
    "plt.figure()\n",
    "cnf_matrix = confusion_matrix(y_test_all, y_pred_all)\n",
    "plot_confusion_matrix(cnf_matrix, classes=['nf','f'],\n",
    "                  title='CM')\n",
    "plt.show()"
   ]
  },
  {
   "cell_type": "code",
   "execution_count": 9,
   "metadata": {},
   "outputs": [
    {
     "name": "stdout",
     "output_type": "stream",
     "text": [
      "Accuracy: 0.825\n"
     ]
    }
   ],
   "source": [
    "print 'Accuracy:', np.sum(np.asarray(y_test_all)==np.asarray(y_pred_all))/float(len(y_pred_all))"
   ]
  },
  {
   "cell_type": "markdown",
   "metadata": {},
   "source": [
    "# Next Step:\n",
    " - weight the word_vectors using tfidf scores while combining them to form sample-level features\n",
    " - LSTMs"
   ]
  },
  {
   "cell_type": "code",
   "execution_count": null,
   "metadata": {},
   "outputs": [],
   "source": []
  },
  {
   "cell_type": "code",
   "execution_count": null,
   "metadata": {},
   "outputs": [],
   "source": []
  }
 ],
 "metadata": {
  "kernelspec": {
   "display_name": "Python 2",
   "language": "python",
   "name": "python2"
  },
  "language_info": {
   "codemirror_mode": {
    "name": "ipython",
    "version": 2
   },
   "file_extension": ".py",
   "mimetype": "text/x-python",
   "name": "python",
   "nbconvert_exporter": "python",
   "pygments_lexer": "ipython2",
   "version": "2.7.14"
  }
 },
 "nbformat": 4,
 "nbformat_minor": 2
}
